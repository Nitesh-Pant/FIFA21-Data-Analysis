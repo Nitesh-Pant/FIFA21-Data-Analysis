{
 "cells": [
  {
   "cell_type": "code",
   "execution_count": 109,
   "id": "04e94632",
   "metadata": {},
   "outputs": [],
   "source": [
    "import pandas as pd\n",
    "import numpy as np\n",
    "from datetime import date"
   ]
  },
  {
   "cell_type": "code",
   "execution_count": 12,
   "id": "a5a8f77a",
   "metadata": {},
   "outputs": [],
   "source": [
    "df = pd.read_csv('D:/Data Science/FIFA21-Data-Analysis/fifa21_raw_data.csv', low_memory = False)"
   ]
  },
  {
   "cell_type": "code",
   "execution_count": 38,
   "id": "77cd470d",
   "metadata": {},
   "outputs": [
    {
     "name": "stdout",
     "output_type": "stream",
     "text": [
      "<class 'pandas.core.frame.DataFrame'>\n",
      "RangeIndex: 18979 entries, 0 to 18978\n",
      "Data columns (total 79 columns):\n",
      " #   Column            Non-Null Count  Dtype  \n",
      "---  ------            --------------  -----  \n",
      " 0   photoUrl          18979 non-null  object \n",
      " 1   LongName          18979 non-null  object \n",
      " 2   playerUrl         18979 non-null  object \n",
      " 3   Nationality       18979 non-null  object \n",
      " 4   Positions         18979 non-null  object \n",
      " 5   Name              18979 non-null  object \n",
      " 6   Age               18979 non-null  int64  \n",
      " 7   ↓OVA              18979 non-null  int64  \n",
      " 8   POT               18979 non-null  int64  \n",
      " 9   Team & Contract   18979 non-null  object \n",
      " 10  ID                18979 non-null  int64  \n",
      " 11  Height            18979 non-null  object \n",
      " 12  Weight            18979 non-null  object \n",
      " 13  foot              18979 non-null  object \n",
      " 14  BOV               18979 non-null  int64  \n",
      " 15  BP                18979 non-null  object \n",
      " 16  Growth            18979 non-null  int64  \n",
      " 17  Joined            18979 non-null  object \n",
      " 18  Loan Date End     1013 non-null   object \n",
      " 19  Value             18979 non-null  object \n",
      " 20  Wage              18979 non-null  object \n",
      " 21  Release Clause    18979 non-null  object \n",
      " 22  Attacking         18979 non-null  int64  \n",
      " 23  Crossing          18979 non-null  int64  \n",
      " 24  Finishing         18979 non-null  int64  \n",
      " 25  Heading Accuracy  18979 non-null  int64  \n",
      " 26  Short Passing     18979 non-null  int64  \n",
      " 27  Volleys           18979 non-null  int64  \n",
      " 28  Skill             18979 non-null  int64  \n",
      " 29  Dribbling         18979 non-null  int64  \n",
      " 30  Curve             18979 non-null  int64  \n",
      " 31  FK Accuracy       18979 non-null  int64  \n",
      " 32  Long Passing      18979 non-null  int64  \n",
      " 33  Ball Control      18979 non-null  int64  \n",
      " 34  Movement          18979 non-null  int64  \n",
      " 35  Acceleration      18979 non-null  int64  \n",
      " 36  Sprint Speed      18979 non-null  int64  \n",
      " 37  Agility           18979 non-null  int64  \n",
      " 38  Reactions         18979 non-null  int64  \n",
      " 39  Balance           18979 non-null  int64  \n",
      " 40  Power             18979 non-null  int64  \n",
      " 41  Shot Power        18979 non-null  int64  \n",
      " 42  Jumping           18979 non-null  int64  \n",
      " 43  Stamina           18979 non-null  int64  \n",
      " 44  Strength          18979 non-null  int64  \n",
      " 45  Long Shots        18979 non-null  int64  \n",
      " 46  Mentality         18979 non-null  int64  \n",
      " 47  Aggression        18979 non-null  int64  \n",
      " 48  Interceptions     18979 non-null  int64  \n",
      " 49  Positioning       18979 non-null  int64  \n",
      " 50  Vision            18979 non-null  int64  \n",
      " 51  Penalties         18979 non-null  int64  \n",
      " 52  Composure         18979 non-null  int64  \n",
      " 53  Defending         18979 non-null  int64  \n",
      " 54  Marking           18979 non-null  int64  \n",
      " 55  Standing Tackle   18979 non-null  int64  \n",
      " 56  Sliding Tackle    18979 non-null  int64  \n",
      " 57  Goalkeeping       18979 non-null  int64  \n",
      " 58  GK Diving         18979 non-null  int64  \n",
      " 59  GK Handling       18979 non-null  int64  \n",
      " 60  GK Kicking        18979 non-null  int64  \n",
      " 61  GK Positioning    18979 non-null  int64  \n",
      " 62  GK Reflexes       18979 non-null  int64  \n",
      " 63  Total Stats       18979 non-null  int64  \n",
      " 64  Base Stats        18979 non-null  int64  \n",
      " 65  W/F               18979 non-null  object \n",
      " 66  SM                18979 non-null  object \n",
      " 67  A/W               18979 non-null  object \n",
      " 68  D/W               18979 non-null  object \n",
      " 69  IR                18979 non-null  object \n",
      " 70  PAC               18979 non-null  int64  \n",
      " 71  SHO               18979 non-null  int64  \n",
      " 72  PAS               18979 non-null  int64  \n",
      " 73  DRI               18979 non-null  int64  \n",
      " 74  DEF               18979 non-null  int64  \n",
      " 75  PHY               18979 non-null  int64  \n",
      " 76  Hits              18979 non-null  object \n",
      " 77  Weight (in kg)    18979 non-null  float64\n",
      " 78  Height (in cm)    18979 non-null  float64\n",
      "dtypes: float64(2), int64(55), object(22)\n",
      "memory usage: 11.4+ MB\n",
      "None\n"
     ]
    }
   ],
   "source": [
    "#print(df.head())\n",
    "#print(df.columns)\n",
    "#print(df.shape)\n",
    "#print(df.isnull().sum())\n",
    "#print(df.info())"
   ]
  },
  {
   "cell_type": "markdown",
   "id": "7e0ddf59",
   "metadata": {},
   "source": [
    "* Convert weight from lbs to kg and create new column"
   ]
  },
  {
   "cell_type": "code",
   "execution_count": 14,
   "id": "5b49168c",
   "metadata": {},
   "outputs": [
    {
     "name": "stdout",
     "output_type": "stream",
     "text": [
      "0    72.121128\n",
      "1    83.007336\n",
      "2    87.089664\n",
      "3    69.853168\n",
      "4    68.038800\n",
      "Name: Weight (in kg), dtype: float64\n"
     ]
    }
   ],
   "source": [
    "df['Weight (in kg)'] = df.Weight.str.replace('lbs', '')\n",
    "df['Weight (in kg)'] = df['Weight (in kg)'].astype(float) * 0.453592\n",
    "print(df['Weight (in kg)'].head())"
   ]
  },
  {
   "cell_type": "markdown",
   "id": "040be15b",
   "metadata": {},
   "source": [
    "* Convert Height from inches to cm"
   ]
  },
  {
   "cell_type": "code",
   "execution_count": 25,
   "id": "f317257b",
   "metadata": {},
   "outputs": [
    {
     "name": "stdout",
     "output_type": "stream",
     "text": [
      "0    173.74\n",
      "1    188.98\n",
      "2    188.98\n",
      "3    155.75\n",
      "4    179.83\n",
      "Name: Height (in cm), dtype: float64\n"
     ]
    }
   ],
   "source": [
    "df['Height (in cm)'] = df['Height'].str.replace(\"'\", '.').str.replace('\"', '')\n",
    "df['Height (in cm)'] = (df['Height (in cm)'].astype(float) * (30.48)).round(2)\n",
    "print(df['Height (in cm)'].head())"
   ]
  },
  {
   "cell_type": "markdown",
   "id": "65e8556c",
   "metadata": {},
   "source": [
    "* Convert Joined column to day, month and year columns"
   ]
  },
  {
   "cell_type": "code",
   "execution_count": 51,
   "id": "4da5294b",
   "metadata": {},
   "outputs": [
    {
     "name": "stdout",
     "output_type": "stream",
     "text": [
      "      Joined  Year  Month  Day\n",
      "0 2004-07-01  2004      7    1\n",
      "1 2018-07-10  2018      7   10\n",
      "2 2014-07-16  2014      7   16\n",
      "3 2015-08-30  2015      8   30\n",
      "4 2017-08-03  2017      8    3\n"
     ]
    }
   ],
   "source": [
    "#print(df.Joined.head(20))\n",
    "#print(df.Joined.unique())\n",
    "df['Joined'] = pd.to_datetime(df['Joined'])\n",
    "#print(df.Joined.dtype)\n",
    "df['Year'] = df['Joined'].dt.year\n",
    "df['Month'] = df['Joined'].dt.month\n",
    "df['Day'] = df['Joined'].dt.day\n",
    "\n",
    "print(df[['Joined', 'Year', 'Month', 'Day']].head())"
   ]
  },
  {
   "cell_type": "markdown",
   "id": "cd2a453b",
   "metadata": {},
   "source": [
    "* Convert wage, value, Relase clause from string to int (M =million)"
   ]
  },
  {
   "cell_type": "code",
   "execution_count": 102,
   "id": "24ec3244",
   "metadata": {},
   "outputs": [
    {
     "name": "stdout",
     "output_type": "stream",
     "text": [
      "0        560000\n",
      "1        220000\n",
      "2        125000\n",
      "3        370000\n",
      "4        270000\n",
      "          ...  \n",
      "18974      1000\n",
      "18975       500\n",
      "18976      1000\n",
      "18977       500\n",
      "18978       500\n",
      "Name: Wage (in euro), Length: 18979, dtype: int64\n",
      "0        67500000.0\n",
      "1        46000000.0\n",
      "2        75000000.0\n",
      "3        87000000.0\n",
      "4        90000000.0\n",
      "            ...    \n",
      "18974       35000.0\n",
      "18975       60000.0\n",
      "18976       40000.0\n",
      "18977       60000.0\n",
      "18978       60000.0\n",
      "Name: Value (in euro), Length: 18979, dtype: object\n",
      "0        138400000\n",
      "1         75900000\n",
      "2        159400000\n",
      "3        161000000\n",
      "4        166500000\n",
      "           ...    \n",
      "18974        57000\n",
      "18975       165000\n",
      "18976        70000\n",
      "18977       165000\n",
      "18978       167000\n",
      "Name: Release Clause (in euro), Length: 18979, dtype: int64\n"
     ]
    }
   ],
   "source": [
    "def convertWage(wage):\n",
    "    if 'K' in wage:\n",
    "        wage = wage.replace('K', '')\n",
    "        wage = int(wage) * 1000\n",
    "    else:\n",
    "        wage = int(wage)\n",
    "        \n",
    "    return wage\n",
    "\n",
    "def convertValue(value):\n",
    "    value = value.lstrip('€')\n",
    "    if 'M' in value:\n",
    "        value = value.replace('M', '')\n",
    "        value = float(value) * 1000000\n",
    "    elif 'K' in value:\n",
    "        value = value.replace('K', '')\n",
    "        value = float(value) * 1000\n",
    "        \n",
    "    return value\n",
    "\n",
    "def convertReleaseClause(rc):\n",
    "    rc = rc.lstrip('€')\n",
    "    if 'M' in rc:\n",
    "        rc = rc.strip('M')\n",
    "        rc = int(float(rc) * 1000000)\n",
    "    elif 'K' in rc:\n",
    "        rc = rc.strip('K')\n",
    "        rc = int(float(rc) * 1000)\n",
    "    \n",
    "    return int(rc)\n",
    "\n",
    "#print(df[['Wage', 'Value', 'Release Clause']].head())\n",
    "#print(df.Wage.unique())\n",
    "\n",
    "df['Wage (in euro)'] = df.Wage.str.replace('€', '')\n",
    "df['Wage (in euro)'] = df['Wage (in euro)'].apply(convertWage)\n",
    "print(df['Wage (in euro)'])\n",
    "\n",
    "#df['Value'].unique()\n",
    "df['Value (in euro)'] = df['Value'].apply(convertValue)\n",
    "print(df['Value (in euro)'])\n",
    "\n",
    "#df['Release Clause'].head()\n",
    "#df['Release Clause'].unique()\n",
    "df['Release Clause (in euro)'] = df['Release Clause'].apply(convertReleaseClause)\n",
    "print(df['Release Clause (in euro)'])"
   ]
  },
  {
   "cell_type": "markdown",
   "id": "e2fdb83a",
   "metadata": {},
   "source": [
    "* Player playing for current club more than 10 years"
   ]
  },
  {
   "cell_type": "code",
   "execution_count": 126,
   "id": "fd263e64",
   "metadata": {},
   "outputs": [
    {
     "name": "stdout",
     "output_type": "stream",
     "text": [
      "       Joined 10 Years\n",
      "0  2004-07-01     True\n",
      "1  2018-07-10    False\n",
      "2  2014-07-16    False\n",
      "3  2015-08-30    False\n",
      "4  2017-08-03    False\n"
     ]
    }
   ],
   "source": [
    "df.Joined = pd.to_datetime(df['Joined'])\n",
    "df.Joined = df.Joined.dt.date\n",
    "today = date.today()\n",
    "\n",
    "days_in_year = 365.2425\n",
    "for idx, join in df.Joined.iteritems():\n",
    "    if(int((today - join).days / days_in_year) >= 10):\n",
    "        df.loc[idx, '10 Years'] = True\n",
    "    else:\n",
    "        df.loc[idx, '10 Years'] = False\n",
    "    \n",
    "print(df[['Joined', '10 Years']].head())   "
   ]
  }
 ],
 "metadata": {
  "kernelspec": {
   "display_name": "Python 3 (ipykernel)",
   "language": "python",
   "name": "python3"
  },
  "language_info": {
   "codemirror_mode": {
    "name": "ipython",
    "version": 3
   },
   "file_extension": ".py",
   "mimetype": "text/x-python",
   "name": "python",
   "nbconvert_exporter": "python",
   "pygments_lexer": "ipython3",
   "version": "3.9.4"
  }
 },
 "nbformat": 4,
 "nbformat_minor": 5
}
